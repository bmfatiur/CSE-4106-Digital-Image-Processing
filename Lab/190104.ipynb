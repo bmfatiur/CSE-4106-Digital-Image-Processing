{
 "cells": [
  {
   "cell_type": "code",
   "execution_count": null,
   "id": "41c98ba6-2433-4810-ba79-196377f726fe",
   "metadata": {},
   "outputs": [],
   "source": [
    "import matplotlib.pyplot as plt\n",
    "from PIL import Image,ImageOps\n",
    "import cv2\n",
    "import numpy as np"
   ]
  },
  {
   "cell_type": "code",
   "execution_count": null,
   "id": "0b392d67-489c-40a9-90c8-443785d61ed3",
   "metadata": {},
   "outputs": [],
   "source": [
    "img1 = cv2.imread('images/1.jpg')\n",
    "img1 = cv2.cvtColor(img1, cv2.COLOR_BGR2RGB)\n",
    "img2 = cv2.imread('images/2.jpg')\n",
    "img2 = cv2.cvtColor(img2, cv2.COLOR_BGR2RGB)\n",
    "\n",
    "plt.imshow(img1)"
   ]
  },
  {
   "cell_type": "code",
   "execution_count": null,
   "id": "8616fa6c-f41d-4a33-a45c-717df649a0a7",
   "metadata": {},
   "outputs": [],
   "source": [
    "plt.imshow(img2)"
   ]
  },
  {
   "cell_type": "code",
   "execution_count": null,
   "id": "c6dc7940-5e12-4eb2-ae92-67a8792dfc5e",
   "metadata": {},
   "outputs": [],
   "source": [
    "# Add the images\n",
    "img1 = cv2.resize(img1, (img2.shape[1], img2.shape[0]))\n",
    "result = cv2.add(img1, img2)\n",
    "\n",
    "plt.imshow(result)"
   ]
  },
  {
   "cell_type": "code",
   "execution_count": null,
   "id": "6f12c5f6-1dcd-443b-8442-65dc0f43c502",
   "metadata": {},
   "outputs": [],
   "source": [
    "img1 = cv2.resize(img1, (img2.shape[1], img2.shape[0]))\n",
    "result = cv2.subtract(img1, img2)\n",
    "plt.imshow(result)\n",
    "plt.show()"
   ]
  },
  {
   "cell_type": "code",
   "execution_count": null,
   "id": "3b890e56-b99b-459e-9fa2-3e07233e500d",
   "metadata": {},
   "outputs": [],
   "source": [
    "#histogram\n",
    "def show_histogram(image_path):\n",
    "    # Load the image\n",
    "    image = cv2.imread(image_path, 0)  # Read the image in grayscale mode (0)\n",
    "\n",
    "    # Calculate histogram\n",
    "    hist = cv2.calcHist([image], [0], None, [256], [0, 256])\n",
    "\n",
    "    # Plot the histogram\n",
    "    plt.figure()\n",
    "    plt.title('Grayscale Histogram')\n",
    "    plt.xlabel('Bins')\n",
    "    plt.ylabel('# of Pixels')\n",
    "    plt.plot(hist)\n",
    "    plt.xlim([0, 256])\n",
    "    plt.show()\n",
    "\n",
    "# Provide the path to your image file\n",
    "image_path = \"images/1.jpg\"\n",
    "\n",
    "# Show the histogram\n",
    "show_histogram(image_path)\n"
   ]
  },
  {
   "cell_type": "code",
   "execution_count": null,
   "id": "aca7243f-a31a-427a-bf3d-e742648e1f98",
   "metadata": {},
   "outputs": [],
   "source": [
    "def histogram_equalization(image_path):\n",
    "    # Load the image\n",
    "    image = cv2.imread(image_path, 0)  # Read the image in grayscale mode (0)\n",
    "\n",
    "    # Perform histogram equalization\n",
    "    equalized_image = cv2.equalizeHist(image)\n",
    "\n",
    "    # Calculate histograms\n",
    "    hist_original = cv2.calcHist([image], [0], None, [256], [0, 256])\n",
    "    hist_equalized = cv2.calcHist([equalized_image], [0], None, [256], [0, 256])\n",
    "\n",
    "    # Plot the histograms\n",
    "    plt.figure(figsize=(10, 5))\n",
    "\n",
    "    plt.subplot(121)\n",
    "    plt.plot(hist_original)\n",
    "    plt.title('Original Histogram')\n",
    "    plt.xlabel('Pixel Value')\n",
    "    plt.ylabel('Frequency')\n",
    "\n",
    "    plt.subplot(122)\n",
    "    plt.plot(hist_equalized)\n",
    "    plt.title('Equalized Histogram')\n",
    "    plt.xlabel('Pixel Value')\n",
    "    plt.ylabel('Frequency')\n",
    "\n",
    "    plt.tight_layout()\n",
    "    plt.show()\n",
    "\n",
    "    return equalized_image\n",
    "\n",
    "# Provide the path to your image file\n",
    "image_path = \"images/1.jpg\"\n",
    "\n",
    "# Perform histogram equalization and display histograms\n",
    "equalized_image = histogram_equalization(image_path)\n",
    "\n",
    "# Display the original and equalized images\n",
    "cv2.imshow(\"Original Image\", cv2.imread(image_path, 0))\n",
    "cv2.waitKey(0)\n",
    "cv2.destroyAllWindows()"
   ]
  },
  {
   "cell_type": "code",
   "execution_count": null,
   "id": "dad614d7-9539-467f-ab9c-824d902d92d9",
   "metadata": {},
   "outputs": [],
   "source": [
    "#cv2.imshow(\"Equalized Image\", equalized_image)\n",
    "#cv2.waitKey(0)\n",
    "#cv2.destroyAllWindows()"
   ]
  }
 ],
 "metadata": {
  "kernelspec": {
   "display_name": "Python 3 (ipykernel)",
   "language": "python",
   "name": "python3"
  },
  "language_info": {
   "codemirror_mode": {
    "name": "ipython",
    "version": 3
   },
   "file_extension": ".py",
   "mimetype": "text/x-python",
   "name": "python",
   "nbconvert_exporter": "python",
   "pygments_lexer": "ipython3",
   "version": "3.10.12"
  }
 },
 "nbformat": 4,
 "nbformat_minor": 5
}
